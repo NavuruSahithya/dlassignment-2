{
  "nbformat": 4,
  "nbformat_minor": 0,
  "metadata": {
    "colab": {
      "provenance": [],
      "authorship_tag": "ABX9TyOv2mmtnsVhPz8WTyhFdxmO",
      "include_colab_link": true
    },
    "kernelspec": {
      "name": "python3",
      "display_name": "Python 3"
    },
    "language_info": {
      "name": "python"
    }
  },
  "cells": [
    {
      "cell_type": "markdown",
      "metadata": {
        "id": "view-in-github",
        "colab_type": "text"
      },
      "source": [
        "<a href=\"https://colab.research.google.com/github/NavuruSahithya/dlassignment-2/blob/main/dl_2_2.ipynb\" target=\"_parent\"><img src=\"https://colab.research.google.com/assets/colab-badge.svg\" alt=\"Open In Colab\"/></a>"
      ]
    },
    {
      "cell_type": "code",
      "execution_count": 4,
      "metadata": {
        "colab": {
          "base_uri": "https://localhost:8080/",
          "height": 248
        },
        "id": "-NwvQG3f8tTw",
        "outputId": "14bd5d92-de2a-4b81-fec4-12d3af7ec394"
      },
      "outputs": [
        {
          "output_type": "stream",
          "name": "stderr",
          "text": [
            "Using the `WANDB_DISABLED` environment variable is deprecated and will be removed in v5. Use the --report_to flag to control the integrations used for logging result (for instance --report_to none).\n"
          ]
        },
        {
          "output_type": "stream",
          "name": "stdout",
          "text": [
            "🎶 Training GPT-2 on sample lyrics...\n"
          ]
        },
        {
          "output_type": "display_data",
          "data": {
            "text/plain": [
              "<IPython.core.display.HTML object>"
            ],
            "text/html": [
              "\n",
              "    <div>\n",
              "      \n",
              "      <progress value='9' max='9' style='width:300px; height:20px; vertical-align: middle;'></progress>\n",
              "      [9/9 00:49, Epoch 3/3]\n",
              "    </div>\n",
              "    <table border=\"1\" class=\"dataframe\">\n",
              "  <thead>\n",
              " <tr style=\"text-align: left;\">\n",
              "      <th>Step</th>\n",
              "      <th>Training Loss</th>\n",
              "    </tr>\n",
              "  </thead>\n",
              "  <tbody>\n",
              "    <tr>\n",
              "      <td>5</td>\n",
              "      <td>2.968300</td>\n",
              "    </tr>\n",
              "  </tbody>\n",
              "</table><p>"
            ]
          },
          "metadata": {}
        },
        {
          "output_type": "stream",
          "name": "stdout",
          "text": [
            "✅ Training complete.\n",
            "🎤 Enter your song prompt: The club isn't the best place to find a lover So the bar is where I go Me and my friends at the table doing shots\n",
            "\n",
            "🎵 Generated Lyrics:\n",
            "The club isn't the best place to find a lover So the bar is where I go Me and my friends at the table doing shots of the other night. It's the place where I love the other night and I am the other night, you're the other night, I'm the other night, I'm the other, I am the other, I'm the other, I'm the other, I am the other, I\n"
          ]
        }
      ],
      "source": [
        "#question-2\n",
        "# =======================================\n",
        "# STEP 1: Install Required Libraries\n",
        "# =======================================\n",
        "!pip install transformers datasets --quiet\n",
        "\n",
        "# =======================================\n",
        "# STEP 2: Import Libraries\n",
        "# =======================================\n",
        "import os\n",
        "import torch\n",
        "from datasets import load_dataset\n",
        "from transformers import (\n",
        "    GPT2Tokenizer, GPT2LMHeadModel,\n",
        "    DataCollatorForLanguageModeling,\n",
        "    Trainer, TrainingArguments\n",
        ")\n",
        "\n",
        "# Disable external logging (like wandb)\n",
        "os.environ[\"WANDB_DISABLED\"] = \"true\"\n",
        "\n",
        "# =======================================\n",
        "# STEP 3: Load Tokenizer and Base GPT-2\n",
        "# =======================================\n",
        "tokenizer = GPT2Tokenizer.from_pretrained(\"gpt2\")\n",
        "tokenizer.pad_token = tokenizer.eos_token  # set pad token\n",
        "model = GPT2LMHeadModel.from_pretrained(\"gpt2\")\n",
        "\n",
        "# =======================================\n",
        "# STEP 4: Create Sample Training Data\n",
        "# =======================================\n",
        "lyrics_file = \"lyrics.txt\"\n",
        "if not os.path.exists(lyrics_file):\n",
        "    sample_lyrics = [\n",
        "        \"You're the one that I want\\n\",\n",
        "        \"Hello from the other side\\n\",\n",
        "        \"Cause baby you're a firework\\n\",\n",
        "        \"Let it go, let it go\\n\",\n",
        "        \"We will, we will rock you\\n\"\n",
        "    ]\n",
        "    with open(lyrics_file, \"w\", encoding=\"utf-8\") as f:\n",
        "        f.writelines(sample_lyrics)\n",
        "\n",
        "# =======================================\n",
        "# STEP 5: Load & Tokenize Lyrics Data\n",
        "# =======================================\n",
        "dataset = load_dataset(\"text\", data_files={\"train\": lyrics_file})\n",
        "\n",
        "def tokenize_text(example):\n",
        "    return tokenizer(example[\"text\"], padding=\"max_length\", truncation=True, max_length=128)\n",
        "\n",
        "tokenized_data = dataset.map(tokenize_text, batched=True)\n",
        "collator = DataCollatorForLanguageModeling(tokenizer=tokenizer, mlm=False)\n",
        "\n",
        "# =======================================\n",
        "# STEP 6: Set Up Training Arguments\n",
        "# =======================================\n",
        "training_args = TrainingArguments(\n",
        "    output_dir=\"./gpt2-lyrics-output\",\n",
        "    overwrite_output_dir=True,\n",
        "    num_train_epochs=3,\n",
        "    per_device_train_batch_size=2,\n",
        "    save_steps=10,\n",
        "    logging_steps=5,\n",
        "    save_total_limit=1,\n",
        "    prediction_loss_only=True\n",
        ")\n",
        "\n",
        "# =======================================\n",
        "# STEP 7: Train the GPT-2 Model\n",
        "# =======================================\n",
        "trainer = Trainer(\n",
        "    model=model,\n",
        "    args=training_args,\n",
        "    train_dataset=tokenized_data[\"train\"],\n",
        "    data_collator=collator\n",
        ")\n",
        "\n",
        "print(\"🎶 Training GPT-2 on sample lyrics...\")\n",
        "trainer.train()\n",
        "print(\"✅ Training complete.\")\n",
        "\n",
        "# Save the fine-tuned model and tokenizer for later reuse\n",
        "model.save_pretrained(\"gpt2-lyrics-model\")\n",
        "tokenizer.save_pretrained(\"gpt2-lyrics-model\")\n",
        "\n",
        "# =======================================\n",
        "# STEP 8: Define a Function to Generate Lyrics\n",
        "# =======================================\n",
        "def generate_lyrics(prompt, max_new_tokens=60):\n",
        "    # Encode the user-provided prompt\n",
        "    input_ids = tokenizer.encode(prompt, return_tensors=\"pt\")\n",
        "    # Generate new tokens based on the prompt\n",
        "    output = model.generate(\n",
        "        input_ids=input_ids,\n",
        "        max_new_tokens=max_new_tokens,\n",
        "        temperature=0.7,\n",
        "        top_k=40,\n",
        "        top_p=0.95,\n",
        "        do_sample=True,\n",
        "        pad_token_id=tokenizer.eos_token_id\n",
        "    )\n",
        "    # Decode and return the generated text\n",
        "    return tokenizer.decode(output[0], skip_special_tokens=True)\n",
        "\n",
        "# =======================================\n",
        "# STEP 9: Get User Song Prompt and Generate Lyrics\n",
        "# =======================================\n",
        "user_prompt = input(\"🎤 Enter your song prompt: \")\n",
        "lyrics = generate_lyrics(user_prompt)\n",
        "print(\"\\n🎵 Generated Lyrics:\")\n",
        "print(lyrics)"
      ]
    }
  ]
}